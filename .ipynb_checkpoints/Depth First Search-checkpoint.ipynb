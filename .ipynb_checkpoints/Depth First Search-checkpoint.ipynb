{
 "cells": [
  {
   "cell_type": "markdown",
   "metadata": {},
   "source": [
    "<h1>Depth First Search</h1>"
   ]
  },
  {
   "cell_type": "markdown",
   "metadata": {},
   "source": [
    "The purpose of this project is for you to write codes that traverse rooted trees using Depth First Search.  In addition, you will find the path from a vertex to the root, and find subtrees within a tree\n",
    "\n",
    "The ONLY IMPORT ALLOWED is  \"copy\" and you are ONLY allowed to use the copy.deepcopy() method from this package.  All of your code should be 'from scracth.'  "
   ]
  },
  {
   "cell_type": "markdown",
   "metadata": {},
   "source": [
    "<h2>Objectives</h2>"
   ]
  },
  {
   "cell_type": "markdown",
   "metadata": {},
   "source": [
    "<h3>find_par</h3>"
   ]
  },
  {
   "cell_type": "markdown",
   "metadata": {},
   "source": [
    "You are to write a function <b>find_par(tree, root, vert)</b> that takes in a rooted tree, its root, and a vertex, and returns the parent of the vertex in the tree, unless the vertex is the root, in which case it returns []."
   ]
  },
  {
   "cell_type": "code",
   "execution_count": 15,
   "metadata": {},
   "outputs": [],
   "source": [
    "def find_par(tree, root, vert):\n",
    "    for par, vertex in tree.items():\n",
    "        if vert == root:\n",
    "            return []\n",
    "        if vert in vertex:\n",
    "            return par"
   ]
  },
  {
   "cell_type": "markdown",
   "metadata": {},
   "source": [
    "After compiling the above cell, you should be able to compile the following cell and obtain the desired outputs."
   ]
  },
  {
   "cell_type": "code",
   "execution_count": 16,
   "metadata": {},
   "outputs": [
    {
     "name": "stdout",
     "output_type": "stream",
     "text": [
      "B []\n"
     ]
    }
   ],
   "source": [
    "print(find_par({\"A\": [\"B\", \"C\"], \"B\":[\"D\"], \"C\":[], \"D\":[]}, \"A\",  \"D\"),\n",
    "      find_par({\"A\": [\"B\", \"C\"], \"B\":[\"D\"], \"C\":[], \"D\":[]}, \"A\",  \"A\"))"
   ]
  },
  {
   "cell_type": "markdown",
   "metadata": {},
   "source": [
    "This should return \n",
    "\n",
    "\"B\"  \n",
    "\n",
    "[]"
   ]
  },
  {
   "cell_type": "markdown",
   "metadata": {},
   "source": [
    "<h3>path</h3>"
   ]
  },
  {
   "cell_type": "markdown",
   "metadata": {},
   "source": [
    "You are to write a function <b>path(tree, root, vert)</b> that takes in a rooted tree, its root, and a vertex, and returns the path (in the form of a list) from vert to the root in the tree. "
   ]
  },
  {
   "cell_type": "code",
   "execution_count": 27,
   "metadata": {},
   "outputs": [],
   "source": [
    "def path(tree, root, vert):\n",
    "    result = []\n",
    "    result.append(vert)\n",
    "    if root == vert:\n",
    "        return result\n",
    "    while(vert != root):\n",
    "        for par, vertex in tree.items():\n",
    "            if vert in vertex:\n",
    "                result.append(par)\n",
    "                vert = par  \n",
    "                pass\n",
    "    return result"
   ]
  },
  {
   "cell_type": "markdown",
   "metadata": {},
   "source": [
    "After compiling the above cell, you should be able to compile the following cell and obtain the desired outputs."
   ]
  },
  {
   "cell_type": "code",
   "execution_count": 30,
   "metadata": {},
   "outputs": [
    {
     "name": "stdout",
     "output_type": "stream",
     "text": [
      "['D', 'B', 'A'] ['C', 'A'] ['A']\n"
     ]
    }
   ],
   "source": [
    "print(path({\"A\": [\"B\", \"C\"], \"B\":[\"D\"], \"C\":[], \"D\":[]}, \"A\", \"D\"),\n",
    "      path({\"A\": [\"B\", \"C\"], \"B\":[\"D\"], \"C\":[], \"D\":[]}, \"A\",  \"C\"),\n",
    "     path({\"A\": [\"B\", \"C\"], \"B\":[\"D\"], \"C\":[], \"D\":[]}, \"A\",  \"A\"))"
   ]
  },
  {
   "cell_type": "markdown",
   "metadata": {},
   "source": [
    "This should return \n",
    "\n",
    "[\"D\", \"B\", \"A\"]\n",
    "\n",
    "[\"C\", \"A\"]\n",
    "\n",
    "[\"A\"]"
   ]
  },
  {
   "cell_type": "markdown",
   "metadata": {},
   "source": [
    "<h3>sub_tree</h3>"
   ]
  },
  {
   "cell_type": "markdown",
   "metadata": {},
   "source": [
    "You are to write a function <b>sub_tree(tree, root, vert)</b> that takes in a rooted tree, its root, and a vertex, and returns the rooted subtree with vert as its root."
   ]
  },
  {
   "cell_type": "code",
   "execution_count": 60,
   "metadata": {},
   "outputs": [],
   "source": [
    "def sub_tree(tree, root, vert):\n",
    "    result = {}\n",
    "    leaves = []\n",
    "    target = []\n",
    "    for par, vertex in tree.items():\n",
    "        if len(tree[par]) == 0:\n",
    "            leaves.append(par)\n",
    "        if vert in vertex:\n",
    "            target.append(par)\n",
    "    for leaf in leaves:\n",
    "        temp = path(tree, root, leaf)\n",
    "        if vert not in temp:\n",
    "            for note in temp:\n",
    "                if note not in target:\n",
    "                    target.append(note)\n",
    "                \n",
    "    \n",
    "    for goal in target:\n",
    "        del tree[goal]\n",
    "        \n",
    "    if vert != root and root in tree.keys():\n",
    "        del tree[root]\n",
    "    return tree"
   ]
  },
  {
   "cell_type": "markdown",
   "metadata": {},
   "source": [
    "After compiling the above cell, you should be able to compile the following cell and obtain the desired outputs."
   ]
  },
  {
   "cell_type": "code",
   "execution_count": 62,
   "metadata": {},
   "outputs": [
    {
     "name": "stdout",
     "output_type": "stream",
     "text": [
      "{'D': [], 'B': ['D']} {'C': []} {'D': ['E'], 'E': []} {'D': [], 'B': ['D']}\n"
     ]
    }
   ],
   "source": [
    "print(sub_tree({\"A\": [\"B\", \"C\"], \"B\":[\"D\"], \"C\":[], \"D\":[]}, \"A\", \"B\"),\n",
    "      sub_tree({\"A\": [\"B\", \"C\"], \"B\":[\"D\"], \"C\":[], \"D\":[]}, \"A\",  \"C\"),\n",
    "     sub_tree({\"A\": [\"B\"], \"B\":[\"D\"], \"D\":[\"E\"], \"E\":[]}, \"A\",  \"D\"),\n",
    "     sub_tree({\"A\": [\"B\", \"C\"], \"B\":[\"D\"], \"C\":[], \"D\":[]}, \"A\", \"B\"))"
   ]
  },
  {
   "cell_type": "markdown",
   "metadata": {},
   "source": [
    "This should return\n",
    "\n",
    " {\"B\":[\"D\"], \"D\":[]}\n",
    "\n",
    "{\"C\":[]}"
   ]
  },
  {
   "cell_type": "markdown",
   "metadata": {},
   "source": [
    "<h3>pre_DFS</h3>"
   ]
  },
  {
   "cell_type": "markdown",
   "metadata": {},
   "source": [
    "You are to write a function <b>pre_DFS(tree, root)</b> that takes in a rooted tree and its root as its input, and returns the list of vertices visited using Pre-Order Depth-First Search. "
   ]
  },
  {
   "cell_type": "code",
   "execution_count": null,
   "metadata": {
    "collapsed": true
   },
   "outputs": [],
   "source": [
    "def pre_DFS(tree, root):\n",
    "    "
   ]
  },
  {
   "cell_type": "markdown",
   "metadata": {},
   "source": [
    "After compiling the above cell, you should be able to compile the following cell and obtain the desired outputs."
   ]
  },
  {
   "cell_type": "code",
   "execution_count": null,
   "metadata": {},
   "outputs": [],
   "source": [
    "print(pre_DFS({\"A\": [\"B\", \"C\"], \"B\":[\"D\"], \"C\":[], \"D\":[]}, \"A\"),\n",
    "      pre_DFS({\"A\": [\"B\", \"C\", \"D\"], \"B\":[], \"C\":[], \"D\":[]}, \"A\"))"
   ]
  },
  {
   "cell_type": "markdown",
   "metadata": {},
   "source": [
    "This should return\n",
    "\n",
    "[\"A\", \"B\", \"D\", \"C\"]\n",
    "\n",
    "[\"A\", \"B\", \"C\", \"D\"]"
   ]
  },
  {
   "cell_type": "markdown",
   "metadata": {},
   "source": [
    "<h3>post_DFS</h3>"
   ]
  },
  {
   "cell_type": "markdown",
   "metadata": {},
   "source": [
    "You are to write a function <b>post_DFS(tree, root)</b> that takes in a rooted tree and its root as its input, and returns the list of vertices visited using Post-Order Depth-First Search.  "
   ]
  },
  {
   "cell_type": "code",
   "execution_count": null,
   "metadata": {
    "collapsed": true
   },
   "outputs": [],
   "source": []
  },
  {
   "cell_type": "markdown",
   "metadata": {},
   "source": [
    "After compiling the above cell, you should be able to compile the following cell and obtain the desired outputs."
   ]
  },
  {
   "cell_type": "code",
   "execution_count": null,
   "metadata": {},
   "outputs": [],
   "source": [
    "print(post_DFS({\"A\": [\"B\", \"C\"], \"B\":[\"D\"], \"C\":[], \"D\":[]}, \"A\"),\n",
    "      post_DFS({\"A\": [\"B\", \"C\", \"D\"], \"B\":[], \"C\":[], \"D\":[]}, \"A\"))"
   ]
  },
  {
   "cell_type": "markdown",
   "metadata": {},
   "source": [
    "This should return \n",
    "\n",
    "[\"D\", \"B\", \"C\", \"A\"]\n",
    "\n",
    "[\"B\", \"C\", \"D\", \"A\"]"
   ]
  },
  {
   "cell_type": "code",
   "execution_count": null,
   "metadata": {
    "collapsed": true
   },
   "outputs": [],
   "source": []
  }
 ],
 "metadata": {
  "anaconda-cloud": {},
  "kernelspec": {
   "display_name": "Python 3",
   "language": "python",
   "name": "python3"
  },
  "language_info": {
   "codemirror_mode": {
    "name": "ipython",
    "version": 3
   },
   "file_extension": ".py",
   "mimetype": "text/x-python",
   "name": "python",
   "nbconvert_exporter": "python",
   "pygments_lexer": "ipython3",
   "version": "3.7.0"
  }
 },
 "nbformat": 4,
 "nbformat_minor": 1
}
