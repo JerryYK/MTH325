{
 "cells": [
  {
   "cell_type": "markdown",
   "metadata": {},
   "source": [
    "<h1>Depth First Search</h1>"
   ]
  },
  {
   "cell_type": "markdown",
   "metadata": {},
   "source": [
    "The purpose of this project is for you to write codes that traverse rooted trees using Depth First Search.  In addition, you will find the path from a vertex to the root, and find subtrees within a tree\n",
    "\n",
    "The ONLY IMPORT ALLOWED is  \"copy\" and you are ONLY allowed to use the copy.deepcopy() method from this package.  All of your code should be 'from scracth.'  "
   ]
  },
  {
   "cell_type": "markdown",
   "metadata": {},
   "source": [
    "<h2>Objectives</h2>"
   ]
  },
  {
   "cell_type": "markdown",
   "metadata": {},
   "source": [
    "<h3>find_par</h3>"
   ]
  },
  {
   "cell_type": "markdown",
   "metadata": {},
   "source": [
    "You are to write a function <b>find_par(tree, root, vert)</b> that takes in a rooted tree, its root, and a vertex, and returns the parent of the vertex in the tree, unless the vertex is the root, in which case it returns []."
   ]
  },
  {
   "cell_type": "code",
   "execution_count": 12,
   "metadata": {},
   "outputs": [],
   "source": [
    "'''\n",
    " To find a vertex's parent, my way is to check is the vertex on any key's value set.\n",
    " On the provide tree, the key is the parent and the value set are the children.\n",
    "'''\n",
    "\n",
    "def find_par(tree, root, vert):\n",
    "    for par, vertex in tree.items():\n",
    "        #if target is root, root has no parent, so return empthy set, [].\n",
    "        if vert == root:\n",
    "            return []\n",
    "        #if find the vertex on some key's value set, return that key, and that is the target's parent\n",
    "        if vert in vertex:\n",
    "            return par"
   ]
  },
  {
   "cell_type": "markdown",
   "metadata": {},
   "source": [
    "After compiling the above cell, you should be able to compile the following cell and obtain the desired outputs."
   ]
  },
  {
   "cell_type": "code",
   "execution_count": 13,
   "metadata": {},
   "outputs": [
    {
     "name": "stdout",
     "output_type": "stream",
     "text": [
      "B []\n"
     ]
    }
   ],
   "source": [
    "print(find_par({\"A\": [\"B\", \"C\"], \"B\":[\"D\"], \"C\":[], \"D\":[]}, \"A\",  \"D\"),\n",
    "      find_par({\"A\": [\"B\", \"C\"], \"B\":[\"D\"], \"C\":[], \"D\":[]}, \"A\",  \"A\"))"
   ]
  },
  {
   "cell_type": "markdown",
   "metadata": {},
   "source": [
    "This should return \n",
    "\n",
    "\"B\"  \n",
    "\n",
    "[]"
   ]
  },
  {
   "cell_type": "markdown",
   "metadata": {},
   "source": [
    "<h3>path</h3>"
   ]
  },
  {
   "cell_type": "markdown",
   "metadata": {},
   "source": [
    "You are to write a function <b>path(tree, root, vert)</b> that takes in a rooted tree, its root, and a vertex, and returns the path (in the form of a list) from vert to the root in the tree. "
   ]
  },
  {
   "cell_type": "code",
   "execution_count": 14,
   "metadata": {},
   "outputs": [],
   "source": [
    "\"\"\"\n",
    "    There is only one way for every vertice to go to the root.\n",
    "    My idea is to find the target vertex's parent and then set its parent to be the target to get its own parent.\n",
    "    Eventually, the process will lead it will go back the root.\n",
    "\"\"\"\n",
    "\n",
    "def path(tree, root, vert):\n",
    "    result = []\n",
    "    result.append(vert)\n",
    "    #if the target is root, then return [root]\n",
    "    if root == vert:\n",
    "        return result\n",
    "    #else, use a while to find the target vetex's parent,\n",
    "    #and set the parent to benext target to find its parent, so on and so on.\n",
    "    #Until it go back to the root.\n",
    "    while(vert != root):\n",
    "        for par, vertex in tree.items():\n",
    "            if vert in vertex:\n",
    "                result.append(par)\n",
    "                vert = par  \n",
    "                pass\n",
    "    return result"
   ]
  },
  {
   "cell_type": "markdown",
   "metadata": {},
   "source": [
    "After compiling the above cell, you should be able to compile the following cell and obtain the desired outputs."
   ]
  },
  {
   "cell_type": "code",
   "execution_count": 15,
   "metadata": {},
   "outputs": [
    {
     "name": "stdout",
     "output_type": "stream",
     "text": [
      "['D', 'B', 'A'] ['C', 'A'] ['A']\n"
     ]
    }
   ],
   "source": [
    "print(path({\"A\": [\"B\", \"C\"], \"B\":[\"D\"], \"C\":[], \"D\":[]}, \"A\", \"D\"),\n",
    "      path({\"A\": [\"B\", \"C\"], \"B\":[\"D\"], \"C\":[], \"D\":[]}, \"A\",  \"C\"),\n",
    "     path({\"A\": [\"B\", \"C\"], \"B\":[\"D\"], \"C\":[], \"D\":[]}, \"A\",  \"A\"))"
   ]
  },
  {
   "cell_type": "markdown",
   "metadata": {},
   "source": [
    "This should return \n",
    "\n",
    "[\"D\", \"B\", \"A\"]\n",
    "\n",
    "[\"C\", \"A\"]\n",
    "\n",
    "[\"A\"]"
   ]
  },
  {
   "cell_type": "markdown",
   "metadata": {},
   "source": [
    "<h3>sub_tree</h3>"
   ]
  },
  {
   "cell_type": "markdown",
   "metadata": {},
   "source": [
    "You are to write a function <b>sub_tree(tree, root, vert)</b> that takes in a rooted tree, its root, and a vertex, and returns the rooted subtree with vert as its root."
   ]
  },
  {
   "cell_type": "code",
   "execution_count": 16,
   "metadata": {},
   "outputs": [],
   "source": [
    "\"\"\"\n",
    "    My idea is no to rebulid a tree.\n",
    "    Instead, I remove the parts that are not on the the subtree from the original tree.\n",
    "\"\"\"\n",
    "\n",
    "def sub_tree(tree, root, vert):\n",
    "    result = {}\n",
    "    leaves = []\n",
    "    target = []\n",
    "    \n",
    "    #get all the leaves on the tree and put into a set. \n",
    "    for par, vertex in tree.items():\n",
    "        if len(tree[par]) == 0:\n",
    "            leaves.append(par)\n",
    "        if vert in vertex:\n",
    "            target.append(par)\n",
    "            \n",
    "    #Every leaf only has one path to go to root.\n",
    "    #I just need to check all the leaves' path to the root on the original tree\n",
    "    #is the path contain the subtree's root. if yes, then it is on the subtree\n",
    "    #if not, then it is not on the subtree part, then colleect them on the target to remove them from the tree.\n",
    "    for leaf in leaves:\n",
    "        temp = path(tree, root, leaf)\n",
    "        if vert not in temp:\n",
    "            for note in temp:\n",
    "                if note not in target:\n",
    "                    target.append(note)\n",
    "                \n",
    "    #delete the target key and its value from the original tree \n",
    "    for goal in target:\n",
    "        del tree[goal]\n",
    "    \n",
    "    #this if statement is safecase for the situation that root only has one child.\n",
    "    #But the child of root has multiple children.\n",
    "    #However, the root still is not a part of the subtree, so remove the root from result.\n",
    "    if vert != root and root in tree.keys():\n",
    "        del tree[root]\n",
    "    return tree"
   ]
  },
  {
   "cell_type": "markdown",
   "metadata": {},
   "source": [
    "After compiling the above cell, you should be able to compile the following cell and obtain the desired outputs."
   ]
  },
  {
   "cell_type": "code",
   "execution_count": 17,
   "metadata": {},
   "outputs": [
    {
     "name": "stdout",
     "output_type": "stream",
     "text": [
      "{'B': ['D'], 'D': []} {'C': []}\n"
     ]
    }
   ],
   "source": [
    "print(sub_tree({\"A\": [\"B\", \"C\"], \"B\":[\"D\"], \"C\":[], \"D\":[]}, \"A\", \"B\"),\n",
    "      sub_tree({\"A\": [\"B\", \"C\"], \"B\":[\"D\"], \"C\":[], \"D\":[]}, \"A\",  \"C\"))"
   ]
  },
  {
   "cell_type": "markdown",
   "metadata": {},
   "source": [
    "This should return\n",
    "\n",
    " {\"B\":[\"D\"], \"D\":[]}\n",
    "\n",
    "{\"C\":[]}"
   ]
  },
  {
   "cell_type": "markdown",
   "metadata": {},
   "source": [
    "<h3>pre_DFS</h3>"
   ]
  },
  {
   "cell_type": "markdown",
   "metadata": {},
   "source": [
    "You are to write a function <b>pre_DFS(tree, root)</b> that takes in a rooted tree and its root as its input, and returns the list of vertices visited using Pre-Order Depth-First Search. "
   ]
  },
  {
   "cell_type": "code",
   "execution_count": 18,
   "metadata": {},
   "outputs": [],
   "source": [
    "\"\"\"\n",
    "    Since th DFS tree go from left to right.\n",
    "    My idea is to from the root to go the most left bottom leaf,\n",
    "    and add the pass thought vertice that are no been visiticed.\n",
    "    Then delete the most left leaf,so move the next leaf to be most left leaf.\n",
    "\"\"\"\n",
    "\n",
    "#Since th DFS tree go from left to right,\n",
    "#so I create the helper method that will go to the bottom left of the tree.\n",
    "def toButtom(tree, vertex):\n",
    "    if len(tree[vertex]) == 0:\n",
    "            return vertex\n",
    "    else:\n",
    "        return toButtom(tree,tree[vertex][0])\n",
    "\n",
    "def pre_DFS(tree, root):\n",
    "    result = []\n",
    "    \n",
    "    #use a infinited loop to keep go the most leftest leaf,\n",
    "    while(True):    \n",
    "        \n",
    "        #use the helper method to get the most leftest leaf to becomes the target\n",
    "        target = toButtom(tree, root)\n",
    "        \n",
    "        #break if the root become target, that mean the tree is been empty exceppt the root, \n",
    "        #no further action required\n",
    "        if target == root:\n",
    "            break\n",
    "        \n",
    "        #first find the target vertex parent\n",
    "        parent = find_par(tree, root, target)\n",
    "        \n",
    "        #use the copy of the original tree to get the path from the target to go the root\n",
    "        temp = path(tree, root,target)\n",
    "        \n",
    "        #since the path method (part 1) is reqired writed as from leaf to root,\n",
    "        #so I just need to reverse the set to get from root to leaf.\n",
    "        temp.reverse()\n",
    "        \n",
    "        #look the vertice on the path set that from root to most leftest leaf,\n",
    "        #if it is not been visited(added into the list), then add into the list\n",
    "        for vertex in temp:\n",
    "            if vertex not in result:\n",
    "                result.append(vertex)\n",
    "    \n",
    "        #remove the current original tree's most left leaf.\n",
    "        tree[parent].remove(target)\n",
    "     \n",
    "    return result"
   ]
  },
  {
   "cell_type": "markdown",
   "metadata": {},
   "source": [
    "After compiling the above cell, you should be able to compile the following cell and obtain the desired outputs."
   ]
  },
  {
   "cell_type": "code",
   "execution_count": 19,
   "metadata": {},
   "outputs": [
    {
     "name": "stdout",
     "output_type": "stream",
     "text": [
      "['A', 'B', 'D', 'C'] ['A', 'B', 'C', 'D']\n"
     ]
    }
   ],
   "source": [
    "print(pre_DFS({\"A\": [\"B\", \"C\"], \"B\":[\"D\"], \"C\":[], \"D\":[]}, \"A\"),\n",
    "      pre_DFS({\"A\": [\"B\", \"C\", \"D\"], \"B\":[], \"C\":[], \"D\":[]}, \"A\"))"
   ]
  },
  {
   "cell_type": "markdown",
   "metadata": {},
   "source": [
    "This should return\n",
    "\n",
    "[\"A\", \"B\", \"D\", \"C\"]\n",
    "\n",
    "[\"A\", \"B\", \"C\", \"D\"]"
   ]
  },
  {
   "cell_type": "markdown",
   "metadata": {},
   "source": [
    "<h3>post_DFS</h3>"
   ]
  },
  {
   "cell_type": "markdown",
   "metadata": {},
   "source": [
    "You are to write a function <b>post_DFS(tree, root)</b> that takes in a rooted tree and its root as its input, and returns the list of vertices visited using Post-Order Depth-First Search.  "
   ]
  },
  {
   "cell_type": "code",
   "execution_count": 20,
   "metadata": {},
   "outputs": [],
   "source": [
    "\"\"\"\n",
    "    Since th DFS tree go from left to right.\n",
    "    My idea is to from the root to go the most left bottom leaf,\n",
    "    and add the pass thought vertice that are no been visiticed.\n",
    "    Then delete the most left leaf,so move the next leaf to be most left leaf.\n",
    "    It is a similiar way with the pre_DFS\n",
    "\"\"\"\n",
    "\n",
    "#Since th DFS tree go from left to right,\n",
    "#so I create the helper method that will go to the bottom left of the tree.\n",
    "def toButtom(tree, vertex):\n",
    "    if len(tree[vertex]) == 0:\n",
    "            return vertex\n",
    "    else:\n",
    "        return toButtom(tree,tree[vertex][0])\n",
    "    \n",
    "def post_DFS(tree, root):\n",
    "    result = []\n",
    "    #use a infinited loop to keep go the most leftest leaf,\n",
    "    while(True):\n",
    "        \n",
    "        #use the helper method to get the most leftest leaf to becomes the target\n",
    "        target = toButtom(tree, root)\n",
    "        \n",
    "        #first find the target vertex parent\n",
    "        parent = find_par(tree, root, target)\n",
    "        \n",
    "        #break if the root become target, that mean the tree is been empty exceppt the root, \n",
    "        #no further action required\n",
    "        if target == root:\n",
    "            break\n",
    "            \n",
    "        #since the path is already from leaf to parent, no need to reverse.\n",
    "        #look the vertice on the path set that from root to most leftest leaf,\n",
    "        #if it is not been visited(added into the list), then add into the list\n",
    "        if target not in result:\n",
    "            result.append(target)\n",
    "            \n",
    "        #remove the current original tree's most left leaf.\n",
    "        tree[parent].remove(target)\n",
    "    result.append(root)\n",
    "    return result\n"
   ]
  },
  {
   "cell_type": "markdown",
   "metadata": {},
   "source": [
    "After compiling the above cell, you should be able to compile the following cell and obtain the desired outputs."
   ]
  },
  {
   "cell_type": "code",
   "execution_count": 21,
   "metadata": {},
   "outputs": [
    {
     "name": "stdout",
     "output_type": "stream",
     "text": [
      "['D', 'B', 'C', 'A'] ['B', 'C', 'D', 'A']\n"
     ]
    }
   ],
   "source": [
    "print(post_DFS({\"A\": [\"B\", \"C\"], \"B\":[\"D\"], \"C\":[], \"D\":[]}, \"A\"),\n",
    "      post_DFS({\"A\": [\"B\", \"C\", \"D\"], \"B\":[], \"C\":[], \"D\":[]}, \"A\"))"
   ]
  },
  {
   "cell_type": "markdown",
   "metadata": {},
   "source": [
    "This should return \n",
    "\n",
    "[\"D\", \"B\", \"C\", \"A\"]\n",
    "\n",
    "[\"B\", \"C\", \"D\", \"A\"]"
   ]
  }
 ],
 "metadata": {
  "anaconda-cloud": {},
  "kernelspec": {
   "display_name": "Python 3",
   "language": "python",
   "name": "python3"
  },
  "language_info": {
   "codemirror_mode": {
    "name": "ipython",
    "version": 3
   },
   "file_extension": ".py",
   "mimetype": "text/x-python",
   "name": "python",
   "nbconvert_exporter": "python",
   "pygments_lexer": "ipython3",
   "version": "3.7.0"
  }
 },
 "nbformat": 4,
 "nbformat_minor": 1
}
