{
 "cells": [
  {
   "cell_type": "markdown",
   "metadata": {},
   "source": [
    "<h1>Minimum Spanning Trees</h1>"
   ]
  },
  {
   "cell_type": "markdown",
   "metadata": {},
   "source": [
    "The purpose of this project is for you to write codes that find minimum spanning trees using both Krukal's and Prim's algorithms.  You will also find a maximum spanning tree using Kruskal's Algorithm.\n",
    "\n",
    "The ONLY IMPORT ALLOWED is  \"copy\" and you are ONLY allowed to use the copy.deepcopy() method from this package.  All of your code should be 'from scracth.'  "
   ]
  },
  {
   "cell_type": "markdown",
   "metadata": {},
   "source": [
    "<h2>Objectives</h2>"
   ]
  },
  {
   "cell_type": "markdown",
   "metadata": {},
   "source": [
    "<h3>edge_get</h3>"
   ]
  },
  {
   "cell_type": "markdown",
   "metadata": {},
   "source": [
    "You are to write a function <b>edge_get(graph)</b> that takes in a weighted graph as its input and returns the list of all the edges of the graph in non-decreasing order.  Note that the order of the endpoints of each edge does not matter (so [\"A\", \"B\"] is the same as [\"B\", \"A\"])."
   ]
  },
  {
   "cell_type": "code",
   "execution_count": 31,
   "metadata": {},
   "outputs": [],
   "source": [
    "# It is a helper method that sort the edges by its way in ascending order.\n",
    "def sort_edges(graph):\n",
    "    return_list = []\n",
    "    for vertex in graph:\n",
    "        for edge in graph[vertex]:\n",
    "            # First check is the edge already in return_list\n",
    "            if [edge[1], [edge[0], vertex]] in return_list:\n",
    "                continue\n",
    "            # Otherwise add the edge into the return_list\n",
    "            return_list.append([edge[1], [vertex, edge[0]]])\n",
    "    # Sort the return_list\n",
    "    return_list.sort()\n",
    "    return return_list\n",
    "\n",
    "\n",
    "def edge_get(graph):\n",
    "    # Use the helper method to sort the edges\n",
    "    list_one = sort_edges(graph)\n",
    "    list_two = []\n",
    "    # Use a for loop to get the resulr \n",
    "    for item in list_one:\n",
    "        list_two.append(item[1])\n",
    "    return list_two"
   ]
  },
  {
   "cell_type": "markdown",
   "metadata": {},
   "source": [
    "After compiling the above cell, you should be able to compile the following cell and obtain the desired outputs."
   ]
  },
  {
   "cell_type": "code",
   "execution_count": 32,
   "metadata": {},
   "outputs": [
    {
     "name": "stdout",
     "output_type": "stream",
     "text": [
      "[['A', 'D'], ['B', 'C'], ['A', 'B'], ['C', 'D']]\n"
     ]
    }
   ],
   "source": [
    "print(edge_get({\"A\": [[\"B\", 10], [\"D\", 5]], \"B\": [[\"A\", 10], [\"C\", 5]], \"C\": [[\"B\", 5], [\"D\", 15]], \"D\": [[\"C\",15 ],[\"A\", 5 ]]}))"
   ]
  },
  {
   "cell_type": "markdown",
   "metadata": {},
   "source": [
    "This should return\n",
    "\n",
    "[[\"A\",\"D\"], [\"B\", \"C\"], [\"A\", \"B\"], [\"C\", \"D\"]]  (another acceptable response is [[\"B\", \"C\"], [\"A\", \"D\"],  [\"A\", \"B\"], [\"C\", \"D\"]])"
   ]
  },
  {
   "cell_type": "markdown",
   "metadata": {},
   "source": [
    "<h3>list_join</h3>"
   ]
  },
  {
   "cell_type": "markdown",
   "metadata": {},
   "source": [
    "You are to write a function <b>list_join(lst, elt1,elt2)</b> that takes in three inputs:  a main list whose elements are lists, and then two elements that each belong in exactly one of the lists of the main list.  This method is then to return a new main list of lists, in which the list containing elt1 and the list containing elt2 are merged if different and unaffected otherwise."
   ]
  },
  {
   "cell_type": "code",
   "execution_count": 33,
   "metadata": {},
   "outputs": [],
   "source": [
    "def list_join(lst, elt1, elt2):\n",
    "    main_list = lst\n",
    "    merge_list_one = []\n",
    "    merge_list_two = []\n",
    "    \n",
    "    # Cycle through sublists\n",
    "    for element in lst:\n",
    "        # If target vertex 1 is in sublist\n",
    "        if elt1 in element:\n",
    "            # Set that list to first mergelist\n",
    "            merge_list_one = element\n",
    "        else:\n",
    "            # If target vertex 2 is in sublist\n",
    "            if elt2 in element:\n",
    "                # set that list to the second mergelist\n",
    "                merge_list_two = element\n",
    "    # If one or the other isn't found\n",
    "    if len(merge_list_one) == 0 or len(merge_list_two) == 0:\n",
    "        # Return the unchanged list\n",
    "        return lst\n",
    "    # Otherwise, remove both sublists\n",
    "    main_list.remove(merge_list_one)\n",
    "    main_list.remove(merge_list_two)\n",
    "    # Combine both sublists\n",
    "    for items in merge_list_two:\n",
    "        if items in merge_list_one:\n",
    "            continue\n",
    "        else:\n",
    "            merge_list_one.append(items)\n",
    "    # Add merged sublist back into the main list\n",
    "    main_list.append(merge_list_one)\n",
    "    main_list.sort()\n",
    "    return main_list"
   ]
  },
  {
   "cell_type": "markdown",
   "metadata": {},
   "source": [
    "After compiling the above cell, you should be able to compile the following cell and obtain the desired outputs."
   ]
  },
  {
   "cell_type": "code",
   "execution_count": 34,
   "metadata": {},
   "outputs": [
    {
     "name": "stdout",
     "output_type": "stream",
     "text": [
      "[['A', 'B', 'D'], ['C'], ['E', 'F']] \n",
      " [['A', 'B'], ['C'], ['D'], ['E', 'F']]\n"
     ]
    }
   ],
   "source": [
    "print(list_join([[\"A\", \"B\"], [\"C\"], [\"D\"], [\"E\", \"F\"]], \"A\", \"D\"), \"\\n\",\n",
    "      list_join([[\"A\", \"B\"], [\"C\"], [\"D\"], [\"E\", \"F\"]], \"A\", \"B\"))"
   ]
  },
  {
   "cell_type": "markdown",
   "metadata": {},
   "source": [
    "This should return \n",
    "\n",
    "[[\"A\", \"B\", \"D\"], [\"C\"], [\"E\",\"F\"]]\n",
    "\n",
    "[[\"A\", \"B\"], [\"C\"], [\"D\"], [\"E\", \"F\"]]"
   ]
  },
  {
   "cell_type": "markdown",
   "metadata": {},
   "source": [
    "<h3>min_kruskal</h3>"
   ]
  },
  {
   "cell_type": "markdown",
   "metadata": {},
   "source": [
    "You are to write a function <b>min_kruskal(graph)</b> that takes in a weighted graph as its input and returns a list of edges that make up a minimum spanning tree IN THE ORDER obtained via Kruskal's algorithm.  The edges should be in the form of lists as well."
   ]
  },
  {
   "cell_type": "code",
   "execution_count": 35,
   "metadata": {},
   "outputs": [],
   "source": [
    "# It is a helper method to check if an edge that has vertices in the current selection\n",
    "def in_chains(chains, edge):\n",
    "    # The vertex value defaults to zero\n",
    "    position_dict = {edge[0]: 0, edge[1]: 0}\n",
    "    for item in edge:\n",
    "        # \"counter\" is the positional value of chain \n",
    "        # (zero equals not found)\n",
    "        counter = 0\n",
    "        for chain in chains:\n",
    "            # If the vertex is in the chain\n",
    "            if item in chain:\n",
    "                # Raise the counter and sort the value.\n",
    "                counter += 1\n",
    "                position_dict[item] = counter\n",
    "            else:\n",
    "                # Otherwise just raise the counter.\n",
    "                counter += 1\n",
    "                \n",
    "    # Returns a pair of values, one for each vertex.\n",
    "    # 0 means not found, X represents which chain it was found in.\n",
    "    return [position_dict[edge[0]], position_dict[edge[1]]]\n",
    "\n",
    "\n",
    "def min_kruskal(graph):\n",
    "    # Sort the graph\n",
    "    edges = edge_get(graph)\n",
    "    final_answer = []\n",
    "    # \"chians\" is the collection of chains of vertices already selected\n",
    "    chains = []\n",
    "    for edge in edges:\n",
    "        # If both vertexes are not in any of the chains\n",
    "        if in_chains(chains, edge) == [0, 0]:\n",
    "            # Create a new chain\n",
    "            chains.append(edge)\n",
    "            # Include edge in final edge selection\n",
    "            final_answer.append(edge.copy())\n",
    "        else:\n",
    "            # If only ONE vertex is in chains\n",
    "            if in_chains(chains, edge)[0] == 0 or in_chains(chains, edge)[1] == 0:\n",
    "                # Include the edge in final edge selection\n",
    "                final_answer.append(edge.copy())\n",
    "                # Add edge as a new chain\n",
    "                chains.append(edge.copy)\n",
    "                # Merge that chain with a parent chain\n",
    "                list_join(chains, edge[0], edge[1])\n",
    "            # If both vertexes are present in diff chains\n",
    "            if in_chains(chains, edge)[0] != in_chains(chains, edge)[1]:\n",
    "                # Include edge in final edge selection\n",
    "                final_answer.append(edge.copy())\n",
    "                # Merge the two chains\n",
    "                list_join(chains, edge[0], edge[1])\n",
    "    return final_answer"
   ]
  },
  {
   "cell_type": "markdown",
   "metadata": {},
   "source": [
    "After compiling the above cell, you should be able to compile the following cell and obtain the desired outputs."
   ]
  },
  {
   "cell_type": "code",
   "execution_count": 36,
   "metadata": {},
   "outputs": [
    {
     "name": "stdout",
     "output_type": "stream",
     "text": [
      "[['A', 'D'], ['B', 'C'], ['A', 'B']]\n"
     ]
    }
   ],
   "source": [
    "print(min_kruskal({\"A\": [[\"B\", 10], [ \"D\", 5]], \"B\": [[\"A\", 10], [\"C\", 5]], \"C\": [[\"B\", 5], [ \"D\", 15]], \"D\": [[\"C\",15 ], [\"A\", 5 ]]}))"
   ]
  },
  {
   "cell_type": "markdown",
   "metadata": {},
   "source": [
    "This should return\n",
    "\n",
    "[[\"A\", \"D\"], [\"B\", \"C\"], [\"A\", \"B\"]]  \n",
    "\n",
    "(another acceptable response is [[\"B\", \"C\"], [\"A\", \"D\"], [\"A\", \"B\"]])"
   ]
  },
  {
   "cell_type": "markdown",
   "metadata": {},
   "source": [
    "<h3>min_prim</h3>"
   ]
  },
  {
   "cell_type": "markdown",
   "metadata": {},
   "source": [
    "You are to write a function <b>min_prim(graph, source)</b> that takes in a weighted graph and a source vertex as its input and returns a list of edges that make up a minimum spanning tree IN THE ORDER obtained via Prim's algorithm.  The edges should be in the form of lists as well.  "
   ]
  },
  {
   "cell_type": "code",
   "execution_count": 37,
   "metadata": {},
   "outputs": [],
   "source": [
    "def min_prim(graph, vertex):\n",
    "    edges = edge_get(graph)\n",
    "    chain = [vertex]\n",
    "    vertex_set = [vertex]\n",
    "    edge_set = []\n",
    "    while len(vertex_set) < len(graph):\n",
    "        for edge in edges:\n",
    "            if in_chains(chain, edge)[0] != in_chains(chain, edge)[1]:\n",
    "                if in_chains(chain, edge)[0] == 0 or in_chains(chain, edge)[1] == 0:\n",
    "                    chain.append(edge.copy())\n",
    "                    if edge[0] not in vertex_set:\n",
    "                        vertex_set.append(edge[0])\n",
    "                    if edge[1] not in vertex_set:\n",
    "                        vertex_set.append(edge[1])\n",
    "                    edge_set.append(edge.copy())\n",
    "                    break\n",
    "                continue\n",
    "    return edge_set\n"
   ]
  },
  {
   "cell_type": "markdown",
   "metadata": {},
   "source": [
    "After compiling the above cell, you should be able to compile the following cell and obtain the desired outputs."
   ]
  },
  {
   "cell_type": "code",
   "execution_count": 38,
   "metadata": {},
   "outputs": [
    {
     "name": "stdout",
     "output_type": "stream",
     "text": [
      "[['A', 'D'], ['A', 'B'], ['B', 'C']]\n"
     ]
    }
   ],
   "source": [
    "print(min_prim({\"A\": [[\"B\", 10], [ \"D\", 5]], \"B\": [[\"A\", 10], [\"C\", 5]], \"C\": [[\"B\", 5], [ \"D\", 15]], \"D\": [[\"C\",15 ], [\"A\", 5 ]]}, \"A\"))"
   ]
  },
  {
   "cell_type": "markdown",
   "metadata": {},
   "source": [
    "This should return\n",
    "\n",
    "[[\"A\", \"D\"], [\"A\", \"B\"], [\"B\", \"C\"]]\n"
   ]
  },
  {
   "cell_type": "markdown",
   "metadata": {},
   "source": [
    "<h3>max_kruskal</h3>"
   ]
  },
  {
   "cell_type": "markdown",
   "metadata": {},
   "source": [
    "You are to write a function <b>max_kruskal(graph)</b> that takes in a weighted graph as its input and returns a list of edges that make up a maximum spanning tree IN THE ORDER obtained via Kruskal's algorithm.  The edges should be in the form of lists as well."
   ]
  },
  {
   "cell_type": "code",
   "execution_count": 39,
   "metadata": {},
   "outputs": [],
   "source": [
    "# It is a helper method that sort the edges by its way in ascending order.\n",
    "def sort_edges(graph):\n",
    "    return_list = []\n",
    "    for vertex in graph:\n",
    "        for edge in graph[vertex]:\n",
    "            # First check is the edge already in return_list\n",
    "            if [edge[1], [edge[0], vertex]] in return_list:\n",
    "                continue\n",
    "            # Otherwise add the edge into the return_list\n",
    "            return_list.append([edge[1], [vertex, edge[0]]])\n",
    "    # Sort the return_list\n",
    "    return_list.sort()\n",
    "    return return_list\n",
    "\n",
    "# It is a helper method that is the reverse version of the \"edge_get\" method from previous.\n",
    "# This way make sure that it will return a list. \n",
    "# Since reverse() method is not very stable. \n",
    "def edge_get_reverse(graph):\n",
    "    list_one = sort_edges(graph)\n",
    "    list_two = []\n",
    "    for item in list_one:\n",
    "        list_two.insert(0, item[1])\n",
    "    return list_two\n",
    "\n",
    "# It is a helper method to check if an edge that has vertices in the current selection\n",
    "def in_chains(chains, edge):\n",
    "    # The vertex value defaults to zero\n",
    "    position_dict = {edge[0]: 0, edge[1]: 0}\n",
    "    for item in edge:\n",
    "        # \"counter\" is the positional value of chain \n",
    "        # (zero equals not found)\n",
    "        counter = 0\n",
    "        for chain in chains:\n",
    "            # If the vertex is in the chain\n",
    "            if item in chain:\n",
    "                # Raise the counter and sort the value.\n",
    "                counter += 1\n",
    "                position_dict[item] = counter\n",
    "            else:\n",
    "                # Otherwise just raise the counter.\n",
    "                counter += 1\n",
    "                \n",
    "    # Returns a pair of values, one for each vertex.\n",
    "    # 0 means not found, X represents which chain it was found in.\n",
    "    return [position_dict[edge[0]], position_dict[edge[1]]]\n",
    "\n",
    "\n",
    "def max_kruskal(graph):\n",
    "    # Sort the graph\n",
    "    edges = edge_get_reverse(graph)\n",
    "    final_answer = []\n",
    "    # \"chians\" is the collection of chains of vertices already selected\n",
    "    chains = []\n",
    "    for edge in edges:\n",
    "        # If both vertexes are not in any of the chains\n",
    "        if in_chains(chains, edge) == [0, 0]:\n",
    "            # Create a new chain\n",
    "            chains.append(edge)\n",
    "            # Include edge in final edge selection\n",
    "            final_answer.append(edge.copy())\n",
    "        else:\n",
    "            # If only ONE vertex is in chains\n",
    "            if in_chains(chains, edge)[0] == 0 or in_chains(chains, edge)[1] == 0:\n",
    "                # Include the edge in final edge selection\n",
    "                final_answer.append(edge.copy())\n",
    "                # Add edge as a new chain\n",
    "                chains.append(edge.copy)\n",
    "                # Merge that chain with a parent chain\n",
    "                list_join(chains, edge[0], edge[1])\n",
    "            else:\n",
    "                # If both vertexes are present in diff chains\n",
    "                if in_chains(chains, edge)[0] != in_chains(chains, edge)[1]:\n",
    "                    # Include edge in final edge selection\n",
    "                    final_answer.append(edge.copy())\n",
    "                    # Merge the two chains\n",
    "                    list_join(chains, edge[0], edge[1])\n",
    "            list_join(chains, edge[1], edge[0])\n",
    "    return final_answer\n"
   ]
  },
  {
   "cell_type": "markdown",
   "metadata": {},
   "source": [
    "After compiling the above cell, you should be able to compile the following cell and obtain the desired outputs."
   ]
  },
  {
   "cell_type": "code",
   "execution_count": 40,
   "metadata": {},
   "outputs": [
    {
     "name": "stdout",
     "output_type": "stream",
     "text": [
      "[['C', 'D'], ['A', 'B'], ['B', 'C']]\n"
     ]
    }
   ],
   "source": [
    "print(max_kruskal({\"A\": [[\"B\", 10], [ \"D\", 5]], \"B\": [[\"A\", 10], [\"C\", 5]], \"C\": [[\"B\", 5], [ \"D\", 15]], \"D\": [[\"C\",15 ], [\"A\", 5 ]]}))"
   ]
  },
  {
   "cell_type": "markdown",
   "metadata": {},
   "source": [
    "This should return \n",
    "\n",
    "[[\"C\",\"D\"], [\"A\",\"B\"], [\"A\",\"D\"]] \n",
    "\n",
    "(another acceptable response is [[\"C\",\"D\"], [\"A\",\"B\"], [\"B\",\"C\"]])"
   ]
  }
 ],
 "metadata": {
  "anaconda-cloud": {},
  "kernelspec": {
   "display_name": "Python 3",
   "language": "python",
   "name": "python3"
  },
  "language_info": {
   "codemirror_mode": {
    "name": "ipython",
    "version": 3
   },
   "file_extension": ".py",
   "mimetype": "text/x-python",
   "name": "python",
   "nbconvert_exporter": "python",
   "pygments_lexer": "ipython3",
   "version": "3.7.0"
  }
 },
 "nbformat": 4,
 "nbformat_minor": 1
}
