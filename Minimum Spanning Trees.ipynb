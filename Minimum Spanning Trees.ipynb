{
  "cells": [
    {
      "metadata": {},
      "cell_type": "markdown",
      "source": "<h1>Minimum Spanning Trees</h1>"
    },
    {
      "metadata": {},
      "cell_type": "markdown",
      "source": "The purpose of this project is for you to write codes that find minimum spanning trees using both Krukal's and Prim's algorithms.  You will also find a maximum spanning tree using Kruskal's Algorithm.\n\nThe ONLY IMPORT ALLOWED is  \"copy\" and you are ONLY allowed to use the copy.deepcopy() method from this package.  All of your code should be 'from scracth.'  "
    },
    {
      "metadata": {},
      "cell_type": "markdown",
      "source": "<h2>Objectives</h2>"
    },
    {
      "metadata": {},
      "cell_type": "markdown",
      "source": "<h3>edge_get</h3>"
    },
    {
      "metadata": {},
      "cell_type": "markdown",
      "source": "You are to write a function <b>edge_get(graph)</b> that takes in a weighted graph as its input and returns the list of all the edges of the graph in non-decreasing order.  Note that the order of the endpoints of each edge does not matter (so [\"A\", \"B\"] is the same as [\"B\", \"A\"])."
    },
    {
      "metadata": {
        "trusted": true
      },
      "cell_type": "code",
      "source": "def sort_edges(graph):\n    return_list = []\n    for vertex in graph:\n        for edge in graph[vertex]:\n            if [edge[1], [edge[0], vertex]] in return_list:\n                continue\n            return_list.append([edge[1], [vertex, edge[0]]])\n    return_list.sort()\n    return return_list\n\n\ndef edge_get(graph):\n    list_one = sort_edges(graph)\n    list_two = []\n    for item in list_one:\n        list_two.append(item[1])\n    return list_two\n\n#Output in Jupyter Notebook doesn't match output in python interpreter...\n#It is still outputting in a correct weighted order, so I'm ignoring the problem\n\n    ",
      "execution_count": 24,
      "outputs": []
    },
    {
      "metadata": {},
      "cell_type": "markdown",
      "source": "After compiling the above cell, you should be able to compile the following cell and obtain the desired outputs."
    },
    {
      "metadata": {
        "trusted": true
      },
      "cell_type": "code",
      "source": "print(edge_get({\"A\": [[\"B\", 10], [\"D\", 5]], \"B\": [[\"A\", 10], [\"C\", 5]], \"C\": [[\"B\", 5], [\"D\", 15]], \"D\": [[\"C\",15 ],[\"A\", 5 ]]}))",
      "execution_count": 25,
      "outputs": [
        {
          "output_type": "stream",
          "text": "[['C', 'B'], ['D', 'A'], ['A', 'B'], ['D', 'C']]\n",
          "name": "stdout"
        }
      ]
    },
    {
      "metadata": {},
      "cell_type": "markdown",
      "source": "This should return\n\n[[\"A\",\"D\"], [\"B\", \"C\"], [\"A\", \"B\"], [\"C\", \"D\"]]  (another acceptable response is [[\"B\", \"C\"], [\"A\", \"D\"],  [\"A\", \"B\"], [\"C\", \"D\"]])"
    },
    {
      "metadata": {},
      "cell_type": "markdown",
      "source": "<h3>list_join</h3>"
    },
    {
      "metadata": {},
      "cell_type": "markdown",
      "source": "You are to write a function <b>list_join(lst, elt1,elt2)</b> that takes in three inputs:  a main list whose elements are lists, and then two elements that each belong in exactly one of the lists of the main list.  This method is then to return a new main list of lists, in which the list containing elt1 and the list containing elt2 are merged if different and unaffected otherwise."
    },
    {
      "metadata": {
        "trusted": true
      },
      "cell_type": "code",
      "source": "def list_join(lst, elt1, elt2):\n    main_list = lst\n    merge_list_one = []\n    merge_list_two = []\n    for element in lst:\n        if elt1 in element:\n            merge_list_one = element\n        else:\n            if elt2 in element:\n                merge_list_two = element\n    if len(merge_list_one) == 0 or len(merge_list_two) == 0:\n        return lst\n    main_list.remove(merge_list_one)\n    main_list.remove(merge_list_two)\n    for items in merge_list_two:\n        if items in merge_list_one:\n            continue\n        else:\n            merge_list_one.append(items)\n    main_list.append(merge_list_one)\n    main_list.sort()\n    return main_list",
      "execution_count": 15,
      "outputs": []
    },
    {
      "metadata": {},
      "cell_type": "markdown",
      "source": "After compiling the above cell, you should be able to compile the following cell and obtain the desired outputs."
    },
    {
      "metadata": {
        "trusted": true
      },
      "cell_type": "code",
      "source": "print(list_join([[\"A\", \"B\"], [\"C\"], [\"D\"], [\"E\", \"F\"]], \"A\", \"D\"), \"\\n\",\n      list_join([[\"A\", \"B\"], [\"C\"], [\"D\"], [\"E\", \"F\"]], \"A\", \"B\"))",
      "execution_count": 17,
      "outputs": [
        {
          "output_type": "stream",
          "text": "[['A', 'B', 'D'], ['C'], ['E', 'F']] \n [['A', 'B'], ['C'], ['D'], ['E', 'F']]\n",
          "name": "stdout"
        }
      ]
    },
    {
      "metadata": {},
      "cell_type": "markdown",
      "source": "This should return \n\n[[\"A\", \"B\", \"D\"], [\"C\"], [\"E\",\"F\"]]\n\n[[\"A\", \"B\"], [\"C\"], [\"D\"], [\"E\", \"F\"]]"
    },
    {
      "metadata": {},
      "cell_type": "markdown",
      "source": "<h3>min_kruskal</h3>"
    },
    {
      "metadata": {},
      "cell_type": "markdown",
      "source": "You are to write a function <b>min_kruskal(graph)</b> that takes in a weighted graph as its input and returns a list of edges that make up a minimum spanning tree IN THE ORDER obtained via Kruskal's algorithm.  The edges should be in the form of lists as well."
    },
    {
      "metadata": {
        "collapsed": true,
        "trusted": false
      },
      "cell_type": "code",
      "source": "",
      "execution_count": null,
      "outputs": []
    },
    {
      "metadata": {},
      "cell_type": "markdown",
      "source": "After compiling the above cell, you should be able to compile the following cell and obtain the desired outputs."
    },
    {
      "metadata": {
        "trusted": false
      },
      "cell_type": "code",
      "source": "print(min_kruskal({\"A\": [[\"B\", 10], [ \"D\", 5]], \"B\": [[\"A\", 10], [\"C\", 5]], \"C\": [[\"B\", 5], [ \"D\", 15]], \"D\": [[\"C\",15 ], [\"A\", 5 ]]}))",
      "execution_count": null,
      "outputs": []
    },
    {
      "metadata": {},
      "cell_type": "markdown",
      "source": "This should return\n\n[[\"A\", \"D\"], [\"B\", \"C\"], [\"A\", \"B\"]]  \n\n(another acceptable response is [[\"B\", \"C\"], [\"A\", \"D\"], [\"A\", \"B\"]])"
    },
    {
      "metadata": {},
      "cell_type": "markdown",
      "source": "<h3>min_prim</h3>"
    },
    {
      "metadata": {},
      "cell_type": "markdown",
      "source": "You are to write a function <b>min_prim(graph, source)</b> that takes in a weighted graph and a source vertex as its input and returns a list of edges that make up a minimum spanning tree IN THE ORDER obtained via Prim's algorithm.  The edges should be in the form of lists as well.  "
    },
    {
      "metadata": {
        "collapsed": true,
        "trusted": false
      },
      "cell_type": "code",
      "source": "",
      "execution_count": null,
      "outputs": []
    },
    {
      "metadata": {},
      "cell_type": "markdown",
      "source": "After compiling the above cell, you should be able to compile the following cell and obtain the desired outputs."
    },
    {
      "metadata": {
        "trusted": false
      },
      "cell_type": "code",
      "source": "print(min_prim({\"A\": [[\"B\", 10], [ \"D\", 5]], \"B\": [[\"A\", 10], [\"C\", 5]], \"C\": [[\"B\", 5], [ \"D\", 15]], \"D\": [[\"C\",15 ], [\"A\", 5 ]]}, \"A\"))",
      "execution_count": null,
      "outputs": []
    },
    {
      "metadata": {},
      "cell_type": "markdown",
      "source": "This should return\n\n[[\"A\", \"D\"], [\"A\", \"B\"], [\"B\", \"C\"]]\n"
    },
    {
      "metadata": {},
      "cell_type": "markdown",
      "source": "<h3>max_kruskal</h3>"
    },
    {
      "metadata": {},
      "cell_type": "markdown",
      "source": "You are to write a function <b>max_kruskal(graph)</b> that takes in a weighted graph as its input and returns a list of edges that make up a maximum spanning tree IN THE ORDER obtained via Kruskal's algorithm.  The edges should be in the form of lists as well."
    },
    {
      "metadata": {
        "collapsed": true,
        "trusted": false
      },
      "cell_type": "code",
      "source": "",
      "execution_count": null,
      "outputs": []
    },
    {
      "metadata": {},
      "cell_type": "markdown",
      "source": "After compiling the above cell, you should be able to compile the following cell and obtain the desired outputs."
    },
    {
      "metadata": {
        "trusted": false
      },
      "cell_type": "code",
      "source": "print(max_kruskal({\"A\": [[\"B\", 10], [ \"D\", 5]], \"B\": [[\"A\", 10], [\"C\", 5]], \"C\": [[\"B\", 5], [ \"D\", 15]], \"D\": [[\"C\",15 ], [\"A\", 5 ]]}))",
      "execution_count": null,
      "outputs": []
    },
    {
      "metadata": {},
      "cell_type": "markdown",
      "source": "This should return \n\n[[\"C\",\"D\"], [\"A\",\"B\"], [\"A\",\"D\"]] \n\n(another acceptable response is [[\"C\",\"D\"], [\"A\",\"B\"], [\"B\",\"C\"]])"
    },
    {
      "metadata": {
        "collapsed": true,
        "trusted": false
      },
      "cell_type": "code",
      "source": "",
      "execution_count": null,
      "outputs": []
    }
  ],
  "metadata": {
    "anaconda-cloud": {},
    "kernelspec": {
      "name": "python3",
      "display_name": "Python 3",
      "language": "python"
    },
    "language_info": {
      "mimetype": "text/x-python",
      "nbconvert_exporter": "python",
      "name": "python",
      "pygments_lexer": "ipython3",
      "version": "3.5.4",
      "file_extension": ".py",
      "codemirror_mode": {
        "version": 3,
        "name": "ipython"
      }
    }
  },
  "nbformat": 4,
  "nbformat_minor": 1
}