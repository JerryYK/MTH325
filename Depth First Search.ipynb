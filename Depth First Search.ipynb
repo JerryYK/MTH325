{
  "cells": [
    {
      "metadata": {},
      "cell_type": "markdown",
      "source": "<h1>Depth First Search</h1>"
    },
    {
      "metadata": {},
      "cell_type": "markdown",
      "source": "The purpose of this project is for you to write codes that traverse rooted trees using Depth First Search.  In addition, you will find the path from a vertex to the root, and find subtrees within a tree\n\nThe ONLY IMPORT ALLOWED is  \"copy\" and you are ONLY allowed to use the copy.deepcopy() method from this package.  All of your code should be 'from scracth.'  "
    },
    {
      "metadata": {},
      "cell_type": "markdown",
      "source": "<h2>Objectives</h2>"
    },
    {
      "metadata": {},
      "cell_type": "markdown",
      "source": "<h3>find_par</h3>"
    },
    {
      "metadata": {},
      "cell_type": "markdown",
      "source": "You are to write a function <b>find_par(tree, root, vert)</b> that takes in a rooted tree, its root, and a vertex, and returns the parent of the vertex in the tree, unless the vertex is the root, in which case it returns []."
    },
    {
      "metadata": {
        "trusted": true
      },
      "cell_type": "code",
      "source": "def find_par(tree, root, vert):\n    for par, vertex in tree.items():\n        if vert == root:\n            return []\n        if vert in vertex:\n            return par",
      "execution_count": 15,
      "outputs": []
    },
    {
      "metadata": {},
      "cell_type": "markdown",
      "source": "After compiling the above cell, you should be able to compile the following cell and obtain the desired outputs."
    },
    {
      "metadata": {
        "trusted": true
      },
      "cell_type": "code",
      "source": "print(find_par({\"A\": [\"B\", \"C\"], \"B\":[\"D\"], \"C\":[], \"D\":[]}, \"A\",  \"D\"),\n      find_par({\"A\": [\"B\", \"C\"], \"B\":[\"D\"], \"C\":[], \"D\":[]}, \"A\",  \"A\"))",
      "execution_count": 16,
      "outputs": [
        {
          "output_type": "stream",
          "text": "B []\n",
          "name": "stdout"
        }
      ]
    },
    {
      "metadata": {},
      "cell_type": "markdown",
      "source": "This should return \n\n\"B\"  \n\n[]"
    },
    {
      "metadata": {},
      "cell_type": "markdown",
      "source": "<h3>path</h3>"
    },
    {
      "metadata": {},
      "cell_type": "markdown",
      "source": "You are to write a function <b>path(tree, root, vert)</b> that takes in a rooted tree, its root, and a vertex, and returns the path (in the form of a list) from vert to the root in the tree. "
    },
    {
      "metadata": {
        "trusted": true
      },
      "cell_type": "code",
      "source": "def path(tree, root, vert):\n    result = []\n    result.append(vert)\n    if root == vert:\n        return result\n    while(vert != root):\n        for par, vertex in tree.items():\n            if vert in vertex:\n                result.append(par)\n                vert = par  \n                pass\n    return result",
      "execution_count": 27,
      "outputs": []
    },
    {
      "metadata": {},
      "cell_type": "markdown",
      "source": "After compiling the above cell, you should be able to compile the following cell and obtain the desired outputs."
    },
    {
      "metadata": {
        "trusted": true
      },
      "cell_type": "code",
      "source": "print(path({\"A\": [\"B\", \"C\"], \"B\":[\"D\"], \"C\":[], \"D\":[]}, \"A\", \"D\"),\n      path({\"A\": [\"B\", \"C\"], \"B\":[\"D\"], \"C\":[], \"D\":[]}, \"A\",  \"C\"),\n     path({\"A\": [\"B\", \"C\"], \"B\":[\"D\"], \"C\":[], \"D\":[]}, \"A\",  \"A\"))",
      "execution_count": 30,
      "outputs": [
        {
          "output_type": "stream",
          "text": "['D', 'B', 'A'] ['C', 'A'] ['A']\n",
          "name": "stdout"
        }
      ]
    },
    {
      "metadata": {},
      "cell_type": "markdown",
      "source": "This should return \n\n[\"D\", \"B\", \"A\"]\n\n[\"C\", \"A\"]\n\n[\"A\"]"
    },
    {
      "metadata": {},
      "cell_type": "markdown",
      "source": "<h3>sub_tree</h3>"
    },
    {
      "metadata": {},
      "cell_type": "markdown",
      "source": "You are to write a function <b>sub_tree(tree, root, vert)</b> that takes in a rooted tree, its root, and a vertex, and returns the rooted subtree with vert as its root."
    },
    {
      "metadata": {
        "trusted": true
      },
      "cell_type": "code",
      "source": "def sub_tree(tree, root, vert):\n    result = {}\n    leaves = []\n    target = []\n    for par, vertex in tree.items():\n        if len(tree[par]) == 0:\n            leaves.append(par)\n        if vert in vertex:\n            target.append(par)\n    for leaf in leaves:\n        temp = path(tree, root, leaf)\n        if vert not in temp:\n            for note in temp:\n                if note not in target:\n                    target.append(note)\n                \n    \n    for goal in target:\n        del tree[goal]\n        \n    if vert != root and root in tree.keys():\n        del tree[root]\n    return tree",
      "execution_count": 60,
      "outputs": []
    },
    {
      "metadata": {},
      "cell_type": "markdown",
      "source": "After compiling the above cell, you should be able to compile the following cell and obtain the desired outputs."
    },
    {
      "metadata": {
        "trusted": true
      },
      "cell_type": "code",
      "source": "print(sub_tree({\"A\": [\"B\", \"C\"], \"B\":[\"D\"], \"C\":[], \"D\":[]}, \"A\", \"B\"),\n      sub_tree({\"A\": [\"B\", \"C\"], \"B\":[\"D\"], \"C\":[], \"D\":[]}, \"A\",  \"C\"),\n     sub_tree({\"A\": [\"B\"], \"B\":[\"D\"], \"D\":[\"E\"], \"E\":[]}, \"A\",  \"D\"),\n     sub_tree({\"A\": [\"B\", \"C\"], \"B\":[\"D\"], \"C\":[], \"D\":[]}, \"A\", \"B\"))",
      "execution_count": 62,
      "outputs": [
        {
          "output_type": "stream",
          "text": "{'D': [], 'B': ['D']} {'C': []} {'D': ['E'], 'E': []} {'D': [], 'B': ['D']}\n",
          "name": "stdout"
        }
      ]
    },
    {
      "metadata": {},
      "cell_type": "markdown",
      "source": "This should return\n\n {\"B\":[\"D\"], \"D\":[]}\n\n{\"C\":[]}"
    },
    {
      "metadata": {},
      "cell_type": "markdown",
      "source": "<h3>pre_DFS</h3>"
    },
    {
      "metadata": {},
      "cell_type": "markdown",
      "source": "You are to write a function <b>pre_DFS(tree, root)</b> that takes in a rooted tree and its root as its input, and returns the list of vertices visited using Pre-Order Depth-First Search. "
    },
    {
      "metadata": {
        "collapsed": true,
        "trusted": false
      },
      "cell_type": "code",
      "source": "def pre_DFS(tree, root):\n    ",
      "execution_count": null,
      "outputs": []
    },
    {
      "metadata": {},
      "cell_type": "markdown",
      "source": "After compiling the above cell, you should be able to compile the following cell and obtain the desired outputs."
    },
    {
      "metadata": {
        "trusted": false
      },
      "cell_type": "code",
      "source": "print(pre_DFS({\"A\": [\"B\", \"C\"], \"B\":[\"D\"], \"C\":[], \"D\":[]}, \"A\"),\n      pre_DFS({\"A\": [\"B\", \"C\", \"D\"], \"B\":[], \"C\":[], \"D\":[]}, \"A\"))",
      "execution_count": null,
      "outputs": []
    },
    {
      "metadata": {},
      "cell_type": "markdown",
      "source": "This should return\n\n[\"A\", \"B\", \"D\", \"C\"]\n\n[\"A\", \"B\", \"C\", \"D\"]"
    },
    {
      "metadata": {},
      "cell_type": "markdown",
      "source": "<h3>post_DFS</h3>"
    },
    {
      "metadata": {},
      "cell_type": "markdown",
      "source": "You are to write a function <b>post_DFS(tree, root)</b> that takes in a rooted tree and its root as its input, and returns the list of vertices visited using Post-Order Depth-First Search.  "
    },
    {
      "metadata": {
        "collapsed": true,
        "trusted": false
      },
      "cell_type": "code",
      "source": "",
      "execution_count": null,
      "outputs": []
    },
    {
      "metadata": {},
      "cell_type": "markdown",
      "source": "After compiling the above cell, you should be able to compile the following cell and obtain the desired outputs."
    },
    {
      "metadata": {
        "trusted": false
      },
      "cell_type": "code",
      "source": "print(post_DFS({\"A\": [\"B\", \"C\"], \"B\":[\"D\"], \"C\":[], \"D\":[]}, \"A\"),\n      post_DFS({\"A\": [\"B\", \"C\", \"D\"], \"B\":[], \"C\":[], \"D\":[]}, \"A\"))",
      "execution_count": null,
      "outputs": []
    },
    {
      "metadata": {},
      "cell_type": "markdown",
      "source": "This should return \n\n[\"D\", \"B\", \"C\", \"A\"]\n\n[\"B\", \"C\", \"D\", \"A\"]"
    },
    {
      "metadata": {
        "collapsed": true,
        "trusted": false
      },
      "cell_type": "code",
      "source": "",
      "execution_count": null,
      "outputs": []
    }
  ],
  "metadata": {
    "anaconda-cloud": {},
    "kernelspec": {
      "name": "python3",
      "display_name": "Python 3",
      "language": "python"
    },
    "language_info": {
      "mimetype": "text/x-python",
      "nbconvert_exporter": "python",
      "name": "python",
      "pygments_lexer": "ipython3",
      "version": "3.5.4",
      "file_extension": ".py",
      "codemirror_mode": {
        "version": 3,
        "name": "ipython"
      }
    }
  },
  "nbformat": 4,
  "nbformat_minor": 1
}