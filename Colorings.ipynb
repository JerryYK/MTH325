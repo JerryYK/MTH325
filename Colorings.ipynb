{
  "cells": [
    {
      "metadata": {},
      "cell_type": "markdown",
      "source": "<h1>Colorings</h1>"
    },
    {
      "metadata": {},
      "cell_type": "markdown",
      "source": "The purpose of this project is for you to write codes that test whether or not a given coloring is proper (this includes both vertex and edge-colorings).  In addition, you will create a function that determine whether or not a given graph has chromatic number at most 3, and another function that implements the Greedy Algorithm for vertex-colorings.\n\nNote that when you are outputing a coloring, the order does not matter.  For example, {\"A\":1, \"B\":2} will be considered the same as {\"B\":2, \"A\":1}.  The ONLY IMPORT ALLOWED is  \"copy\" and you are ONLY allowed to use the copy.deepcopy() method from this package.  All of your code should be 'from scracth.'  "
    },
    {
      "metadata": {},
      "cell_type": "markdown",
      "source": "<h2>Objectives</h2>"
    },
    {
      "metadata": {},
      "cell_type": "markdown",
      "source": "<h3>is_proper</h3>"
    },
    {
      "metadata": {},
      "cell_type": "markdown",
      "source": "You are to write a function <b>is_proper(graph,color)</b> that has two inputs: one a graph, and the other a\nlabelling of the vertices, and determines whether or not the labelling is a proper vertex-coloring of the given\ngraph. In other words, return the Boolean value True if it is, and False if it is not."
    },
    {
      "metadata": {
        "trusted": true
      },
      "cell_type": "code",
      "source": "def is_proper(graph_set, color_set):\n        for vertices in graph_set:\n            for neighbors in graph_set[vertices]:\n                if color_set[neighbors] == color_set[vertices]:\n                    return False\n        return True\n    ",
      "execution_count": 1,
      "outputs": []
    },
    {
      "metadata": {},
      "cell_type": "markdown",
      "source": "After compiling the above cell, you should be able to compile the following cell and obtain the desired outputs."
    },
    {
      "metadata": {
        "trusted": true
      },
      "cell_type": "code",
      "source": "print(is_proper({\"A\": [\"B\", \"C\"], \"B\": [\"A\", \"C\"], \"C\": [\"A\", \"B\"]}, {\"A\": 1, \"B\": 2, \"C\": 3}),\n      is_proper({\"A\": [\"B\", \"C\"], \"B\": [\"A\", \"C\"], \"C\": [\"A\", \"B\"]}, {\"A\": 1, \"B\": 1, \"C\": 3}))",
      "execution_count": 2,
      "outputs": [
        {
          "output_type": "stream",
          "text": "True False\n",
          "name": "stdout"
        }
      ]
    },
    {
      "metadata": {},
      "cell_type": "markdown",
      "source": "This should return\n\nTrue False"
    },
    {
      "metadata": {},
      "cell_type": "markdown",
      "source": "<h3>three_color</h3>"
    },
    {
      "metadata": {},
      "cell_type": "markdown",
      "source": "Write a function <b>three_color(graph)</b> that takes in a graph as its input, and then returns a single list that contains all possible vertex-colorings (NOT necessarily proper!) of that graph using at most three colors."
    },
    {
      "metadata": {
        "trusted": true
      },
      "cell_type": "code",
      "source": "def three_color(graph):\n    vertex_list = []\n    dictionario = {}\n    generate_combinations(dictionario, graph, vertex_list, 0)\n    return vertex_list\n\n\n#Part of three_color\ndef generate_combinations(dictionario, graph, list, depth):\n    keys = []\n    for key in graph:\n        keys.append(key)\n    keys.sort()\n    if depth >= len(keys):\n            list.append(dictionario)\n    else:\n        for x in range(1,4):\n            dictionario[keys[depth]] = x\n            generate_combinations(dictionario.copy(), graph, list, depth+1)",
      "execution_count": 3,
      "outputs": []
    },
    {
      "metadata": {},
      "cell_type": "markdown",
      "source": "After compiling the above cell, you should be able to compile the following cell and obtain the desired outputs."
    },
    {
      "metadata": {
        "trusted": true
      },
      "cell_type": "code",
      "source": " print(three_color({\"A\": [\"B\"], \"B\": [\"A\"]}))",
      "execution_count": 4,
      "outputs": [
        {
          "output_type": "stream",
          "text": "[{'A': 1, 'B': 1}, {'A': 1, 'B': 2}, {'A': 1, 'B': 3}, {'A': 2, 'B': 1}, {'A': 2, 'B': 2}, {'A': 2, 'B': 3}, {'A': 3, 'B': 1}, {'A': 3, 'B': 2}, {'A': 3, 'B': 3}]\n",
          "name": "stdout"
        }
      ]
    },
    {
      "metadata": {},
      "cell_type": "markdown",
      "source": "This should return \n\n[{\"A\":1, \"B\":1}, {\"A\":1, \"B\":2}, {\"A\":1, \"B\":3}, {\"A\":2, \"B\":1}, {\"A\":2, \"B\":2}, {\"A\":2, \"B\":3}, {\"A\":3, \"B\":1}, {\"A\":3, \"B\":2}, {\"A\":3, \"B\":3}]"
    },
    {
      "metadata": {},
      "cell_type": "markdown",
      "source": "<h3>is_three_color</h3>"
    },
    {
      "metadata": {},
      "cell_type": "markdown",
      "source": "Write a function <b>is_three_color(graph)</b> that takes in a graph as its input, and then determines whether or not the chromatic number of the graph is at most three.  In other words, it will return the Boolean value True if it is, and False if it is not."
    },
    {
      "metadata": {
        "trusted": true
      },
      "cell_type": "code",
      "source": "def is_three_color(graph):\n    for vertex in graph:\n        if len(graph[vertex]) >= 3:\n            return False\n    return True",
      "execution_count": 5,
      "outputs": []
    },
    {
      "metadata": {},
      "cell_type": "markdown",
      "source": "After compiling the above cell, you should be able to compile the following cell and obtain the desired outputs."
    },
    {
      "metadata": {
        "trusted": true
      },
      "cell_type": "code",
      "source": "print(is_three_color({\"A\": [\"B\", \"C\"], \"B\": [\"A\", \"C\"], \"C\": [\"A\", \"B\"]}),\n      is_three_color({\"A\": [\"B\", \"C\", \"D\"], \"B\": [\"A\", \"C\", \"D\"], \"C\": [\"A\", \"B\", \"D\"], \"D\":[\"A\", \"B\", \"C\"]}))\n",
      "execution_count": 6,
      "outputs": [
        {
          "output_type": "stream",
          "text": "True False\n",
          "name": "stdout"
        }
      ]
    },
    {
      "metadata": {},
      "cell_type": "markdown",
      "source": "This should return\n\nTrue  False"
    },
    {
      "metadata": {},
      "cell_type": "markdown",
      "source": "<h3>is_proper_edge</h3>"
    },
    {
      "metadata": {},
      "cell_type": "markdown",
      "source": "Write a function <b>is_proper_edge(graph)</b> that takes in a weighted graph (remember that this is just a labelling of the edges) and then determines whether or not the labelling is a proper edge-coloring.  In other words, it will return the Boolean value True if it is a proper edge-coloring, and False if it is not."
    },
    {
      "metadata": {
        "trusted": true
      },
      "cell_type": "code",
      "source": "def is_proper_edge(graph):\n    for vertex in graph:\n        colors_used = []\n        for edges in graph[vertex]:\n            if edges[1] in colors_used:\n                return False\n            else:\n                colors_used.append(edges[1])\n    return True\n",
      "execution_count": 7,
      "outputs": []
    },
    {
      "metadata": {},
      "cell_type": "markdown",
      "source": "After compiling the above cell, you should be able to compile the following cell and obtain the desired outputs."
    },
    {
      "metadata": {
        "trusted": true
      },
      "cell_type": "code",
      "source": "print(is_proper_edge({\"A\":[[\"B\", 1], [\"C\", 2]], \"B\": [[\"A\", 1], [\"C\", 3]], \"C\": [[\"A\", 2], [\"B\", 3]]}),\n      is_proper_edge({\"A\":[[\"B\", 1], [\"C\", 2]], \"B\": [[\"A\", 1], [\"C\", 2]], \"C\": [[\"A\", 2], [\"B\", 2]]}))",
      "execution_count": 8,
      "outputs": [
        {
          "output_type": "stream",
          "text": "True False\n",
          "name": "stdout"
        }
      ]
    },
    {
      "metadata": {},
      "cell_type": "markdown",
      "source": "This should return\n\nTrue    False"
    },
    {
      "metadata": {},
      "cell_type": "markdown",
      "source": "<h3>greedy</h3>"
    },
    {
      "metadata": {},
      "cell_type": "markdown",
      "source": "Write a function <b>greedy(graph, order)</b> that takes in two inputs, one a graph and the other an ordering of the vertices, and returns the proper vertex-coloring produced by the greedy algorithm.  Remember that in which the vertices/keys appear does not matter, but the colors/values assigned to the vertices/keys does."
    },
    {
      "metadata": {
        "trusted": true
      },
      "cell_type": "code",
      "source": "def greedy(graph, order):\n    coloring = {}\n    for x in order:\n        coloring[x] = 1\n    for vertex in order:\n        for neighbor in graph[vertex]:\n            coloring[neighbor] = 1\n            while matches_neighbor(graph, neighbor, coloring):\n                coloring[neighbor] += 1\n    return coloring\n\n\n\ndef matches_neighbor(graph, vertex, coloring):\n    for neighbor in graph[vertex]:\n        if coloring[vertex] == coloring[neighbor]:\n            return True\n    return False\n",
      "execution_count": 9,
      "outputs": []
    },
    {
      "metadata": {},
      "cell_type": "markdown",
      "source": "After compiling the above cell, you should be able to compile the following cell and obtain the desired outputs."
    },
    {
      "metadata": {
        "trusted": true
      },
      "cell_type": "code",
      "source": "print(greedy({\"A\": [\"B\", \"C\"], \"B\": [\"A\"], \"C\": [\"A\"]}, [\"A\", \"B\", \"C\"]),\n      greedy({\"A\": [\"B\"], \"B\": [\"A\", \"C\"], \"C\": [\"B\", \"D\"], \"D\": [\"C\"]}, [\"A\", \"D\", \"B\", \"C\"]))",
      "execution_count": 10,
      "outputs": [
        {
          "output_type": "stream",
          "text": "{'A': 1, 'C': 2, 'B': 2} {'D': 1, 'A': 1, 'C': 3, 'B': 2}\n",
          "name": "stdout"
        }
      ]
    },
    {
      "metadata": {},
      "cell_type": "markdown",
      "source": "This should return\n\n{\"A\":1, \"B\": 2, \"C\": 2}    {\"A\":1, \"B\": 2, \"C\": 3, \"D\": 1}"
    },
    {
      "metadata": {
        "trusted": true
      },
      "cell_type": "code",
      "source": "",
      "execution_count": null,
      "outputs": []
    }
  ],
  "metadata": {
    "anaconda-cloud": {},
    "kernelspec": {
      "name": "python3",
      "display_name": "Python 3",
      "language": "python"
    },
    "language_info": {
      "mimetype": "text/x-python",
      "nbconvert_exporter": "python",
      "name": "python",
      "file_extension": ".py",
      "version": "3.5.4",
      "pygments_lexer": "ipython3",
      "codemirror_mode": {
        "version": 3,
        "name": "ipython"
      }
    }
  },
  "nbformat": 4,
  "nbformat_minor": 1
}