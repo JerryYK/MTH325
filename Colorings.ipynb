{
 "cells": [
  {
   "cell_type": "markdown",
   "metadata": {},
   "source": [
    "<h1>Colorings</h1>"
   ]
  },
  {
   "cell_type": "markdown",
   "metadata": {},
   "source": [
    "The purpose of this project is for you to write codes that test whether or not a given coloring is proper (this includes both vertex and edge-colorings).  In addition, you will create a function that determine whether or not a given graph has chromatic number at most 3, and another function that implements the Greedy Algorithm for vertex-colorings.\n",
    "\n",
    "Note that when you are outputing a coloring, the order does not matter.  For example, {\"A\":1, \"B\":2} will be considered the same as {\"B\":2, \"A\":1}.  The ONLY IMPORT ALLOWED is  \"copy\" and you are ONLY allowed to use the copy.deepcopy() method from this package.  All of your code should be 'from scracth.'  "
   ]
  },
  {
   "cell_type": "markdown",
   "metadata": {},
   "source": [
    "<h2>Objectives</h2>"
   ]
  },
  {
   "cell_type": "markdown",
   "metadata": {},
   "source": [
    "<h3>is_proper</h3>"
   ]
  },
  {
   "cell_type": "markdown",
   "metadata": {},
   "source": [
    "You are to write a function <b>is_proper(graph,color)</b> that has two inputs: one a graph, and the other a\n",
    "labelling of the vertices, and determines whether or not the labelling is a proper vertex-coloring of the given\n",
    "graph. In other words, return the Boolean value True if it is, and False if it is not."
   ]
  },
  {
   "cell_type": "code",
   "execution_count": 1,
   "metadata": {},
   "outputs": [],
   "source": [
    "\"\"\"\n",
    "    This idea is check through the graph set, \n",
    "    in the meantime get the relative color that on the color set,\n",
    "    then to check is there has the same color for key(parent) to value(child)\n",
    "    or share same color on the same set (childs share same color).\n",
    "\"\"\"\n",
    "\n",
    "def is_proper(graph_set, color_set):\n",
    "    \n",
    "        #use nest for loop to check each parent and each their children\n",
    "        for vertices in graph_set:\n",
    "            for neighbors in graph_set[vertices]:\n",
    "                \n",
    "                #if there has the same color, return false\n",
    "                if color_set[neighbors] == color_set[vertices]:\n",
    "                    return False\n",
    "                \n",
    "        #after the for loop check the whole graph, \n",
    "        #if no any issues, then return true\n",
    "        return True"
   ]
  },
  {
   "cell_type": "markdown",
   "metadata": {},
   "source": [
    "After compiling the above cell, you should be able to compile the following cell and obtain the desired outputs."
   ]
  },
  {
   "cell_type": "code",
   "execution_count": 2,
   "metadata": {},
   "outputs": [
    {
     "name": "stdout",
     "output_type": "stream",
     "text": [
      "True False\n"
     ]
    }
   ],
   "source": [
    "print(is_proper({\"A\": [\"B\", \"C\"], \"B\": [\"A\", \"C\"], \"C\": [\"A\", \"B\"]}, {\"A\": 1, \"B\": 2, \"C\": 3}),\n",
    "      is_proper({\"A\": [\"B\", \"C\"], \"B\": [\"A\", \"C\"], \"C\": [\"A\", \"B\"]}, {\"A\": 1, \"B\": 1, \"C\": 3}))"
   ]
  },
  {
   "cell_type": "markdown",
   "metadata": {},
   "source": [
    "This should return\n",
    "\n",
    "True False"
   ]
  },
  {
   "cell_type": "markdown",
   "metadata": {},
   "source": [
    "<h3>three_color</h3>"
   ]
  },
  {
   "cell_type": "markdown",
   "metadata": {},
   "source": [
    "Write a function <b>three_color(graph)</b> that takes in a graph as its input, and then returns a single list that contains all possible vertex-colorings (NOT necessarily proper!) of that graph using at most three colors."
   ]
  },
  {
   "cell_type": "code",
   "execution_count": 3,
   "metadata": {},
   "outputs": [],
   "source": [
    "def three_color(graph):\n",
    "    vertex_list = []\n",
    "    dictionario = {}\n",
    "    \n",
    "    # Use the helper method to generate all the possible combinations of 3 colors.\n",
    "    generate_combinations(dictionario, graph, vertex_list, 0)\n",
    "    return vertex_list\n",
    "\n",
    "# It is a recursive helper method.\n",
    "# It generates all the possible combinations of three colors.\n",
    "def generate_combinations(dictionario, graph, list, depth):\n",
    "    keys = []\n",
    "    for key in graph:\n",
    "        keys.append(key)\n",
    "        \n",
    "    # Sort the list\n",
    "    keys.sort()\n",
    "    \n",
    "    # Base case: depth is max depth.\n",
    "    if depth >= len(keys):\n",
    "            # Add the current dictionary to the final list.\n",
    "            list.append(dictionario)\n",
    "            \n",
    "    # Not base case:\n",
    "    else:\n",
    "        # iterate from 1 to 3\n",
    "        for x in range(1,4):\n",
    "            # Create a pathing with the length of 'x' value.\n",
    "            dictionario[keys[depth]] = x\n",
    "            \n",
    "            # Recursive the method and increase the depth by 1.\n",
    "            generate_combinations(dictionario.copy(), graph, list, depth+1)"
   ]
  },
  {
   "cell_type": "markdown",
   "metadata": {},
   "source": [
    "After compiling the above cell, you should be able to compile the following cell and obtain the desired outputs."
   ]
  },
  {
   "cell_type": "code",
   "execution_count": 4,
   "metadata": {},
   "outputs": [
    {
     "name": "stdout",
     "output_type": "stream",
     "text": [
      "[{'A': 1, 'B': 1}, {'A': 1, 'B': 2}, {'A': 1, 'B': 3}, {'A': 2, 'B': 1}, {'A': 2, 'B': 2}, {'A': 2, 'B': 3}, {'A': 3, 'B': 1}, {'A': 3, 'B': 2}, {'A': 3, 'B': 3}]\n"
     ]
    }
   ],
   "source": [
    " print(three_color({\"A\": [\"B\"], \"B\": [\"A\"]}))"
   ]
  },
  {
   "cell_type": "markdown",
   "metadata": {},
   "source": [
    "This should return \n",
    "\n",
    "[{\"A\":1, \"B\":1}, {\"A\":1, \"B\":2}, {\"A\":1, \"B\":3}, {\"A\":2, \"B\":1}, {\"A\":2, \"B\":2}, {\"A\":2, \"B\":3}, {\"A\":3, \"B\":1}, {\"A\":3, \"B\":2}, {\"A\":3, \"B\":3}]"
   ]
  },
  {
   "cell_type": "markdown",
   "metadata": {},
   "source": [
    "<h3>is_three_color</h3>"
   ]
  },
  {
   "cell_type": "markdown",
   "metadata": {},
   "source": [
    "Write a function <b>is_three_color(graph)</b> that takes in a graph as its input, and then determines whether or not the chromatic number of the graph is at most three.  In other words, it will return the Boolean value True if it is, and False if it is not."
   ]
  },
  {
   "cell_type": "code",
   "execution_count": 5,
   "metadata": {},
   "outputs": [],
   "source": [
    "def is_three_color(graph):\n",
    "    for vertex in graph:\n",
    "        if len(graph[vertex]) >= 3:\n",
    "            return False\n",
    "    return True"
   ]
  },
  {
   "cell_type": "markdown",
   "metadata": {},
   "source": [
    "After compiling the above cell, you should be able to compile the following cell and obtain the desired outputs."
   ]
  },
  {
   "cell_type": "code",
   "execution_count": 6,
   "metadata": {},
   "outputs": [
    {
     "name": "stdout",
     "output_type": "stream",
     "text": [
      "True False\n"
     ]
    }
   ],
   "source": [
    "print(is_three_color({\"A\": [\"B\", \"C\"], \"B\": [\"A\", \"C\"], \"C\": [\"A\", \"B\"]}),\n",
    "      is_three_color({\"A\": [\"B\", \"C\", \"D\"], \"B\": [\"A\", \"C\", \"D\"], \"C\": [\"A\", \"B\", \"D\"], \"D\":[\"A\", \"B\", \"C\"]}))\n"
   ]
  },
  {
   "cell_type": "markdown",
   "metadata": {},
   "source": [
    "This should return\n",
    "\n",
    "True  False"
   ]
  },
  {
   "cell_type": "markdown",
   "metadata": {},
   "source": [
    "<h3>is_proper_edge</h3>"
   ]
  },
  {
   "cell_type": "markdown",
   "metadata": {},
   "source": [
    "Write a function <b>is_proper_edge(graph)</b> that takes in a weighted graph (remember that this is just a labelling of the edges) and then determines whether or not the labelling is a proper edge-coloring.  In other words, it will return the Boolean value True if it is a proper edge-coloring, and False if it is not."
   ]
  },
  {
   "cell_type": "code",
   "execution_count": 7,
   "metadata": {},
   "outputs": [],
   "source": [
    "def is_proper_edge(graph):\n",
    "    for vertex in graph:\n",
    "        colors_used = []\n",
    "        for edges in graph[vertex]:\n",
    "            if edges[1] in colors_used:\n",
    "                return False\n",
    "            else:\n",
    "                colors_used.append(edges[1])\n",
    "    return True\n"
   ]
  },
  {
   "cell_type": "markdown",
   "metadata": {},
   "source": [
    "After compiling the above cell, you should be able to compile the following cell and obtain the desired outputs."
   ]
  },
  {
   "cell_type": "code",
   "execution_count": 8,
   "metadata": {},
   "outputs": [
    {
     "name": "stdout",
     "output_type": "stream",
     "text": [
      "True False\n"
     ]
    }
   ],
   "source": [
    "print(is_proper_edge({\"A\":[[\"B\", 1], [\"C\", 2]], \"B\": [[\"A\", 1], [\"C\", 3]], \"C\": [[\"A\", 2], [\"B\", 3]]}),\n",
    "      is_proper_edge({\"A\":[[\"B\", 1], [\"C\", 2]], \"B\": [[\"A\", 1], [\"C\", 2]], \"C\": [[\"A\", 2], [\"B\", 2]]}))"
   ]
  },
  {
   "cell_type": "markdown",
   "metadata": {},
   "source": [
    "This should return\n",
    "\n",
    "True    False"
   ]
  },
  {
   "cell_type": "markdown",
   "metadata": {},
   "source": [
    "<h3>greedy</h3>"
   ]
  },
  {
   "cell_type": "markdown",
   "metadata": {},
   "source": [
    "Write a function <b>greedy(graph, order)</b> that takes in two inputs, one a graph and the other an ordering of the vertices, and returns the proper vertex-coloring produced by the greedy algorithm.  Remember that in which the vertices/keys appear does not matter, but the colors/values assigned to the vertices/keys does."
   ]
  },
  {
   "cell_type": "code",
   "execution_count": 9,
   "metadata": {},
   "outputs": [],
   "source": [
    "def greedy(graph, order):\n",
    "    coloring = {}\n",
    "    for x in order:\n",
    "        coloring[x] = 1\n",
    "    for vertex in order:\n",
    "        for neighbor in graph[vertex]:\n",
    "            coloring[neighbor] = 1\n",
    "            \n",
    "            # Use a helper method to detects is there has any collisions.\n",
    "            while matches_neighbor(graph, neighbor, coloring):\n",
    "                coloring[neighbor] += 1\n",
    "    return coloring\n",
    "\n",
    "\n",
    "# It is a helper method that detects is there has any coloring collision\n",
    "def matches_neighbor(graph, vertex, coloring):\n",
    "    for neighbor in graph[vertex]:\n",
    "        \n",
    "        # If the vertex share the same color with its neighbor vertex,\n",
    "        # return ture.\n",
    "        if coloring[vertex] == coloring[neighbor]:\n",
    "            return True\n",
    "    return False\n"
   ]
  },
  {
   "cell_type": "markdown",
   "metadata": {},
   "source": [
    "After compiling the above cell, you should be able to compile the following cell and obtain the desired outputs."
   ]
  },
  {
   "cell_type": "code",
   "execution_count": 10,
   "metadata": {},
   "outputs": [
    {
     "name": "stdout",
     "output_type": "stream",
     "text": [
      "{'A': 1, 'B': 2, 'C': 2} {'A': 1, 'D': 1, 'B': 2, 'C': 3}\n"
     ]
    }
   ],
   "source": [
    "print(greedy({\"A\": [\"B\", \"C\"], \"B\": [\"A\"], \"C\": [\"A\"]}, [\"A\", \"B\", \"C\"]),\n",
    "      greedy({\"A\": [\"B\"], \"B\": [\"A\", \"C\"], \"C\": [\"B\", \"D\"], \"D\": [\"C\"]}, [\"A\", \"D\", \"B\", \"C\"]))"
   ]
  },
  {
   "cell_type": "markdown",
   "metadata": {},
   "source": [
    "This should return\n",
    "\n",
    "{\"A\":1, \"B\": 2, \"C\": 2}    {\"A\":1, \"B\": 2, \"C\": 3, \"D\": 1}"
   ]
  }
 ],
 "metadata": {
  "anaconda-cloud": {},
  "kernelspec": {
   "display_name": "Python 3",
   "language": "python",
   "name": "python3"
  },
  "language_info": {
   "codemirror_mode": {
    "name": "ipython",
    "version": 3
   },
   "file_extension": ".py",
   "mimetype": "text/x-python",
   "name": "python",
   "nbconvert_exporter": "python",
   "pygments_lexer": "ipython3",
   "version": "3.7.0"
  }
 },
 "nbformat": 4,
 "nbformat_minor": 1
}
